{
 "cells": [
  {
   "cell_type": "code",
   "execution_count": 17,
   "id": "560d13b4",
   "metadata": {},
   "outputs": [],
   "source": [
    "from pyspark.sql.functions import col\n",
    "from pyspark.sql import SparkSession\n",
    "from pyspark.sql.window import Window\n",
    "from pyspark.sql.functions import row_number\n",
    "spark = SparkSession.builder \\\n",
    "    .appName(\"PySpark Azure Cosmos DB Example\") \\\n",
    "    .config(\"spark.jars.packages\", \"com.microsoft.azure:azure-cosmosdb-spark_2.12:3.6.0\") \\\n",
    "    .config(\"spark.cosmos.accountEndpoint\", \"https://ney.documents.azure.com:xxx/\") \\\n",
    "    .config(\"spark.cosmos.accountKey\", \"000000000000000000000000000000000000\") \\\n",
    "    .config(\"spark.cosmos.database\", \"xxx\") \\\n",
    "    .config(\"spark.cosmos.container\", \"xxx1\") \\\n",
    "    .getOrCreate()\n",
    "\n",
    "\n",
    "\n",
    "    \n",
    "    "
   ]
  },
  {
   "cell_type": "code",
   "execution_count": 18,
   "id": "5f917fff",
   "metadata": {},
   "outputs": [],
   "source": [
    "class blob_store_relatorio_repository:\n",
    "\n",
    "    def __init__(self):\n",
    "        self.storage_account_name = \"dadoswalney\"\n",
    "        self.storage_account_access_key = \"413123\"\n",
    "        self.container_name = \"neydados\"\n",
    "        \n",
    "    def get_blob_dados_vendas(self):\n",
    "        spark.conf.set(\"fs.azure.account.key.\" + self.storage_account_name + \".blob.core.windows.net\", self.storage_account_access_key)\n",
    "        blob_file_path = f\"wasbs://{self.container_name}@{self.storage_account_name}.blob.core.windows.net/tbvendas.csv\"\n",
    "\n",
    "        return spark.read.csv(blob_file_path, header=True)\n",
    "\n",
    "    def get_blob_dados_funcionario(self):\n",
    "        spark.conf.set(\"fs.azure.account.key.\" + self.storage_account_name + \".blob.core.windows.net\", self.storage_account_access_key)\n",
    "        blob_file_path = f\"wasbs://{self.container_name}@{self.storage_account_name}.blob.core.windows.net/tbfuncionario.csv\"\n",
    "\n",
    "        return spark.read.csv(blob_file_path, header=True)"
   ]
  },
  {
   "cell_type": "code",
   "execution_count": 33,
   "id": "c3335908",
   "metadata": {},
   "outputs": [
    {
     "data": {
      "text/plain": [
       "DataFrame[id_funcionario: string, nome: string, cargo: string, departamento: string, data_admissao: string, salario: string]"
      ]
     },
     "execution_count": 33,
     "metadata": {},
     "output_type": "execute_result"
    }
   ],
   "source": [
    "x=blob_store_relatorio_repository()\n",
    "x.get_blob_dados_funcionario()"
   ]
  },
  {
   "cell_type": "code",
   "execution_count": 19,
   "id": "9e1b9bab",
   "metadata": {},
   "outputs": [],
   "source": [
    "class  blob_store_relatorio_controller_vendas:\n",
    "    def  __init__(self):\n",
    "        self.repositorio= blob_store_relatorio_repository()\n",
    "    \n",
    "    def obter_dados_vendas(self):\n",
    "        return self.repositorio.get_blob_dados_vendas()\n",
    "    \n",
    "    \n",
    "\n",
    "class  blob_store_relatorio_controller_funcionario:\n",
    "    def  __init__(self):\n",
    "        self.repositorio= blob_store_relatorio_repository()\n",
    "    \n",
    "    def obter_dados_funcionario(self):\n",
    "        return self.repositorio.get_blob_dados_funcionario()\n",
    "    \n",
    "        \n",
    "    "
   ]
  },
  {
   "cell_type": "code",
   "execution_count": 77,
   "id": "6bb95ce0",
   "metadata": {},
   "outputs": [
    {
     "data": {
      "text/plain": [
       "DataFrame[id_venda: string,  id_funcionario: string,  data_venda: string,  produto: string,  quantidade: string,  preco_unitario: string,  total_venda: string]"
      ]
     },
     "execution_count": 77,
     "metadata": {},
     "output_type": "execute_result"
    }
   ],
   "source": [
    "xx=blob_store_relatorio_controller_vendas()\n",
    "xx.obter_dados_vendas()"
   ]
  },
  {
   "cell_type": "code",
   "execution_count": 122,
   "id": "db9ba636",
   "metadata": {},
   "outputs": [
    {
     "data": {
      "text/plain": [
       "DataFrame[id_venda: string,  id_funcionario: string,  data_venda: string,  produto: string,  quantidade: string,  preco_unitario: string,  total_venda: string]"
      ]
     },
     "execution_count": 122,
     "metadata": {},
     "output_type": "execute_result"
    }
   ],
   "source": [
    "df_vendas"
   ]
  },
  {
   "cell_type": "code",
   "execution_count": 20,
   "id": "c0b703a1",
   "metadata": {},
   "outputs": [],
   "source": [
    "#instanciar objetos vendas e funcionario\n",
    "\n",
    "df_vendas= blob_store_relatorio_controller_vendas().obter_dados_vendas()\n",
    "df_funcionario = blob_store_relatorio_controller_funcionario().obter_dados_funcionario()"
   ]
  },
  {
   "cell_type": "code",
   "execution_count": 133,
   "id": "a71f38db",
   "metadata": {},
   "outputs": [
    {
     "data": {
      "text/plain": [
       "DataFrame[id_funcionario: string, nome: string, cargo: string, departamento: string, data_admissao: string, salario: string]"
      ]
     },
     "execution_count": 133,
     "metadata": {},
     "output_type": "execute_result"
    }
   ],
   "source": [
    "df_funcionario"
   ]
  },
  {
   "cell_type": "code",
   "execution_count": 150,
   "id": "18a8065f",
   "metadata": {},
   "outputs": [
    {
     "name": "stdout",
     "output_type": "stream",
     "text": [
      "+--------+---------------+-----------+-----------+-----------+---------------+------------+\n",
      "|id_venda| id_funcionario| data_venda|    produto| quantidade| preco_unitario| total_venda|\n",
      "+--------+---------------+-----------+-----------+-----------+---------------+------------+\n",
      "|       1|              1| 2024-06-01|      Mouse|          2|          25.00|       50.00|\n",
      "|       2|              2| 2024-06-02|    Teclado|          1|          40.00|       40.00|\n",
      "|       3|              1| 2024-06-03|    Monitor|          1|         150.00|      150.00|\n",
      "|       4|              3| 2024-06-04|    Headset|          3|          30.00|       90.00|\n",
      "|       5|              2| 2024-06-05| Impressora|          1|         200.00|      200.00|\n",
      "|       6|              1| 2024-06-06|    Teclado|          2|          40.00|       80.00|\n",
      "|       7|              2| 2024-06-07|    Monitor|          1|         150.00|      150.00|\n",
      "|       8|              3| 2024-06-08|      Mouse|          3|          25.00|       75.00|\n",
      "|       9|              1| 2024-06-09|    Teclado|          2|          40.00|       80.00|\n",
      "|      10|              2| 2024-06-10|    Monitor|          2|         150.00|      300.00|\n",
      "+--------+---------------+-----------+-----------+-----------+---------------+------------+\n",
      "\n"
     ]
    }
   ],
   "source": [
    "df_vendas.show()"
   ]
  },
  {
   "cell_type": "code",
   "execution_count": 130,
   "id": "6aa3236e",
   "metadata": {},
   "outputs": [
    {
     "data": {
      "text/plain": [
       "NoneType"
      ]
     },
     "execution_count": 130,
     "metadata": {},
     "output_type": "execute_result"
    }
   ],
   "source": [
    "type(df_funcionario)"
   ]
  },
  {
   "cell_type": "code",
   "execution_count": 21,
   "id": "20763714",
   "metadata": {},
   "outputs": [],
   "source": [
    "# tratamento 1 : obter os campos de destino de tabela\n",
    "from pyspark.sql.functions import col\n",
    "df_vendas=df_vendas.select('id_venda',col(' id_funcionario').alias('id_fun'),' preco_unitario',' produto',' data_venda' )"
   ]
  },
  {
   "cell_type": "code",
   "execution_count": 22,
   "id": "e380b0cc",
   "metadata": {},
   "outputs": [],
   "source": [
    "df_funcionario=df_funcionario.select('id_funcionario','nome','cargo','salario')"
   ]
  },
  {
   "cell_type": "code",
   "execution_count": 173,
   "id": "f4c82ddf",
   "metadata": {},
   "outputs": [
    {
     "name": "stdout",
     "output_type": "stream",
     "text": [
      "+--------+------+---------------+-----------+-----------+\n",
      "|id_venda|id_fun| preco_unitario|    produto| data_venda|\n",
      "+--------+------+---------------+-----------+-----------+\n",
      "|       1|     1|          25.00|      Mouse| 2024-06-01|\n",
      "|       2|     2|          40.00|    Teclado| 2024-06-02|\n",
      "|       3|     1|         150.00|    Monitor| 2024-06-03|\n",
      "|       4|     3|          30.00|    Headset| 2024-06-04|\n",
      "|       5|     2|         200.00| Impressora| 2024-06-05|\n",
      "|       6|     1|          40.00|    Teclado| 2024-06-06|\n",
      "|       7|     2|         150.00|    Monitor| 2024-06-07|\n",
      "|       8|     3|          25.00|      Mouse| 2024-06-08|\n",
      "|       9|     1|          40.00|    Teclado| 2024-06-09|\n",
      "|      10|     2|         150.00|    Monitor| 2024-06-10|\n",
      "+--------+------+---------------+-----------+-----------+\n",
      "\n"
     ]
    }
   ],
   "source": [
    "df_vendas.show()"
   ]
  },
  {
   "cell_type": "code",
   "execution_count": 174,
   "id": "84f3b9df",
   "metadata": {},
   "outputs": [
    {
     "name": "stdout",
     "output_type": "stream",
     "text": [
      "+--------------+------+---------------+-------+\n",
      "|id_funcionario|  nome|          cargo|salario|\n",
      "+--------------+------+---------------+-------+\n",
      "|             1|  João|Sales Associate|2500.00|\n",
      "|             2| Maria|  Sales Manager|3500.00|\n",
      "|             3|Carlos|     Accountant|3000.00|\n",
      "+--------------+------+---------------+-------+\n",
      "\n"
     ]
    }
   ],
   "source": [
    "df_funcionario.show()"
   ]
  },
  {
   "cell_type": "code",
   "execution_count": 175,
   "id": "2f4e1613",
   "metadata": {},
   "outputs": [
    {
     "name": "stdout",
     "output_type": "stream",
     "text": [
      "root\n",
      " |-- id_venda: string (nullable = true)\n",
      " |-- id_fun: string (nullable = true)\n",
      " |--  preco_unitario: string (nullable = true)\n",
      " |--  produto: string (nullable = true)\n",
      " |--  data_venda: string (nullable = true)\n",
      "\n"
     ]
    }
   ],
   "source": [
    "df_vendas.printSchema()"
   ]
  },
  {
   "cell_type": "code",
   "execution_count": 176,
   "id": "3d84ff43",
   "metadata": {},
   "outputs": [
    {
     "name": "stdout",
     "output_type": "stream",
     "text": [
      "root\n",
      " |-- id_funcionario: string (nullable = true)\n",
      " |-- nome: string (nullable = true)\n",
      " |-- cargo: string (nullable = true)\n",
      " |-- salario: string (nullable = true)\n",
      "\n"
     ]
    }
   ],
   "source": [
    "df_funcionario.printSchema()"
   ]
  },
  {
   "cell_type": "code",
   "execution_count": 23,
   "id": "dc5e9345",
   "metadata": {},
   "outputs": [],
   "source": [
    "#tratamento de dados\n",
    "\n",
    "\"\"\"dataframe funcionario\"\"\"\n",
    "df_funcionario = df_funcionario.withColumn(\"salario\", col(\"salario\").cast('float'))\n",
    "df_funcionario = df_funcionario.withColumn(\"id_funcionario\", col(\"id_funcionario\").cast(\"int\"))\n",
    "\n",
    "\n",
    "\"\"\"dataframe vendas\"\"\"\n",
    "#eliminar o espaco do  atributo preco_unitario\n",
    "df_vendas = df_vendas.withColumn(\"preco_unitario\", col(\" preco_unitario\").cast(\"float\")).drop(\" preco_unitario\")\n",
    "#eliminar o espaco do  atributo data_venda\n",
    "df_vendas = df_vendas.withColumn(\"data_venda\", col(\" data_venda\").cast('date')).drop(col(\" data_venda\"))\n",
    "#renomer o atributo produto para o nome\n",
    "df_vendas = df_vendas.withColumnRenamed(\" produto\", \"nome_produto\")\n"
   ]
  },
  {
   "cell_type": "code",
   "execution_count": 24,
   "id": "ffcf34d0",
   "metadata": {},
   "outputs": [
    {
     "name": "stdout",
     "output_type": "stream",
     "text": [
      "root\n",
      " |-- id_funcionario: integer (nullable = true)\n",
      " |-- nome: string (nullable = true)\n",
      " |-- cargo: string (nullable = true)\n",
      " |-- salario: float (nullable = true)\n",
      "\n"
     ]
    }
   ],
   "source": [
    "\n",
    "df_funcionario.printSchema()"
   ]
  },
  {
   "cell_type": "code",
   "execution_count": 197,
   "id": "59040a62",
   "metadata": {},
   "outputs": [
    {
     "name": "stdout",
     "output_type": "stream",
     "text": [
      "root\n",
      " |-- id_venda: string (nullable = true)\n",
      " |-- id_fun: string (nullable = true)\n",
      " |-- nome_produto: string (nullable = true)\n",
      " |-- preco_unitario: float (nullable = true)\n",
      " |-- data_venda: date (nullable = true)\n",
      "\n"
     ]
    }
   ],
   "source": [
    "df_vendas.printSchema()"
   ]
  },
  {
   "cell_type": "code",
   "execution_count": null,
   "id": "b1faa05e",
   "metadata": {},
   "outputs": [],
   "source": []
  },
  {
   "cell_type": "code",
   "execution_count": 25,
   "id": "1ae324ad",
   "metadata": {},
   "outputs": [],
   "source": [
    "\"\"\"consolidacao de dados\"\"\"\n",
    "\n",
    "df_r_func_vend= df_funcionario.join(df_vendas,df_vendas.id_fun==df_funcionario.id_funcionario,'left')"
   ]
  },
  {
   "cell_type": "code",
   "execution_count": 33,
   "id": "c239ea6a",
   "metadata": {},
   "outputs": [
    {
     "name": "stdout",
     "output_type": "stream",
     "text": [
      "root\n",
      " |-- id_funcionario: integer (nullable = true)\n",
      " |-- nome: string (nullable = true)\n",
      " |-- cargo: string (nullable = true)\n",
      " |-- salario: float (nullable = true)\n",
      " |-- id_venda: string (nullable = true)\n",
      " |-- id_fun: string (nullable = true)\n",
      " |-- nome_produto: string (nullable = true)\n",
      " |-- preco_unitario: float (nullable = true)\n",
      " |-- data_venda: date (nullable = true)\n",
      "\n"
     ]
    }
   ],
   "source": [
    "df_r_func_vend.printSchema()"
   ]
  },
  {
   "cell_type": "code",
   "execution_count": 26,
   "id": "5f4dc33d",
   "metadata": {},
   "outputs": [],
   "source": [
    "\n",
    "\n",
    "df_r_func_vend = (df_r_func_vend.withColumn('colun', \n",
    "                                            row_number().over(Window.partitionBy('id_fun')\n",
    "                                                              .orderBy(col('data_venda').desc())))\n",
    ").filter(col('colun')==1).select('cargo','data_venda','id_fun','nome','nome_produto')\n",
    "\n"
   ]
  },
  {
   "cell_type": "code",
   "execution_count": 13,
   "id": "f232b0da",
   "metadata": {},
   "outputs": [
    {
     "name": "stdout",
     "output_type": "stream",
     "text": [
      "+---------------+----------+------+------+------------+\n",
      "|          cargo|data_venda|id_fun|  nome|nome_produto|\n",
      "+---------------+----------+------+------+------------+\n",
      "|Sales Associate|2024-06-09|     1|  João|     Teclado|\n",
      "|  Sales Manager|2024-06-10|     2| Maria|     Monitor|\n",
      "|     Accountant|2024-06-08|     3|Carlos|       Mouse|\n",
      "+---------------+----------+------+------+------------+\n",
      "\n"
     ]
    }
   ],
   "source": [
    "df_r_func_vend.show(4)"
   ]
  },
  {
   "cell_type": "code",
   "execution_count": 14,
   "id": "e6a1a468",
   "metadata": {},
   "outputs": [
    {
     "data": {
      "text/plain": [
       "DataFrame[cargo: string, data_venda: date, id_fun: string, nome: string, nome_produto: string]"
      ]
     },
     "execution_count": 14,
     "metadata": {},
     "output_type": "execute_result"
    }
   ],
   "source": [
    "df_r_func_vend"
   ]
  },
  {
   "cell_type": "code",
   "execution_count": null,
   "id": "d4fd38c0",
   "metadata": {},
   "outputs": [],
   "source": [
    "\n",
    "df_r_func_vend.write.format(\"cosmos.oltp\").mode(\"append\").save()\n"
   ]
  },
  {
   "cell_type": "code",
   "execution_count": null,
   "id": "b255a5ac",
   "metadata": {},
   "outputs": [],
   "source": []
  }
 ],
 "metadata": {
  "kernelspec": {
   "display_name": "Python 3",
   "language": "python",
   "name": "python3"
  },
  "language_info": {
   "codemirror_mode": {
    "name": "ipython",
    "version": 3
   },
   "file_extension": ".py",
   "mimetype": "text/x-python",
   "name": "python",
   "nbconvert_exporter": "python",
   "pygments_lexer": "ipython3",
   "version": "3.6.9"
  }
 },
 "nbformat": 4,
 "nbformat_minor": 5
}
